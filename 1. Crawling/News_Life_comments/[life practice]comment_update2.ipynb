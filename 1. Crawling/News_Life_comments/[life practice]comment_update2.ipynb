{
 "cells": [
  {
   "cell_type": "code",
   "execution_count": 1,
   "metadata": {},
   "outputs": [],
   "source": [
    "import requests\n",
    "import re\n",
    "import sys\n",
    "import json\n",
    "from bs4 import BeautifulSoup\n",
    "from tqdm import tqdm\n",
    "\n",
    "import pandas as pd\n",
    "import datetime\n",
    "from datetime import datetime\n",
    "\n",
    "df1 = pd.read_csv(r\"D:\\git\\team5a\\NEWS_TEAM_5\\Data\\Naver_social_URL_split_11\\Naver_social_URL_1.csv\")\n",
    "\n",
    "data = pd.DataFrame()\n",
    "\n",
    "for url_addr in df1['URL']:\n",
    "    oid = url_addr.split('/')[5]\n",
    "    aid = url_addr.split('/')[6].split('?')[0]\n",
    "\n",
    "    r = requests.get(\"https://cbox5.apis.naver.com/commentBox/cbox/web_naver_list_jsonp.json?ticket=news&templateId=view_society&pool=cbox5&_cv=20221122141410&_callback=jQuery33109815095164386811_1669873780035&lang=ko&country=KR&objectId=news\"+str(oid)+\",\"+str(aid)+\"&pageSize=100&indexSize=10&listType=OBJECT&pageType=more&page=1&initialize=true&useAltSort=true&replyPageSize=20&sort=favorite&includeAllStatus=true\",\n",
    "\n",
    "\n",
    "    headers = {\n",
    "        'user-agent': 'Mozilla/5.0 (Windows NT 10.0; Win64; x64) AppleWebKit/537.36 (KHTML, like Gecko) Chrome/107.0.0.0 Safari/537.36',\n",
    "\n",
    "        'referer': url_addr\n",
    "    })\n",
    "\n",
    "    soup = BeautifulSoup(r.content, 'html.parser')\n",
    "\n",
    "    json_text = re.findall('\\{.*?\\)+;', soup.get_text())[0][:-2]\n",
    "\n",
    "    info = json.loads(json_text)['result']['commentList']\n",
    "\n",
    "    for comment in info:\n",
    "        UserID = comment['userIdNo']\n",
    "        UserName = comment['maskedUserName']\n",
    "        WritedAt = comment['modTime']\n",
    "        WritedAt = WritedAt[0:10]+' '+WritedAt[11:16]\n",
    "        Content = comment['contents'].replace(\"\\n\", ' ').strip()\n",
    "        \n",
    "        comments_info_df = pd.DataFrame({'URL' : url_addr,\n",
    "                                    'UserID' : UserID,\n",
    "                                    'UserName' : UserName, \n",
    "                                    'WritedAt' : WritedAt,\n",
    "                                    'Content' : Content},index = [0])\n",
    "        data = pd.concat([data, comments_info_df])\n"
   ]
  },
  {
   "cell_type": "code",
   "execution_count": null,
   "metadata": {},
   "outputs": [],
   "source": [
    "data[:5]\n"
   ]
  },
  {
   "cell_type": "code",
   "execution_count": 4,
   "metadata": {},
   "outputs": [],
   "source": [
    "data.to_csv(r\"./Naver_social_comments_1\", index=False, escapechar='\\\\')"
   ]
  },
  {
   "cell_type": "code",
   "execution_count": null,
   "metadata": {},
   "outputs": [],
   "source": []
  }
 ],
 "metadata": {
  "kernelspec": {
   "display_name": "Python 3.10.8 ('study')",
   "language": "python",
   "name": "python3"
  },
  "language_info": {
   "codemirror_mode": {
    "name": "ipython",
    "version": 3
   },
   "file_extension": ".py",
   "mimetype": "text/x-python",
   "name": "python",
   "nbconvert_exporter": "python",
   "pygments_lexer": "ipython3",
   "version": "3.10.8"
  },
  "orig_nbformat": 4,
  "vscode": {
   "interpreter": {
    "hash": "b1a55fce2583b06818e1c4d3e705906ff6773f9193676be18cf85f207b6c8c61"
   }
  }
 },
 "nbformat": 4,
 "nbformat_minor": 2
}
